{
 "cells": [
  {
   "cell_type": "code",
   "execution_count": 1,
   "id": "595cb433-92c9-4136-9e84-42465888cde0",
   "metadata": {},
   "outputs": [],
   "source": [
    "def green_score(word, chances):\n",
    "    score = 0\n",
    "    if len(set(word)) <5:\n",
    "        return 0\n",
    "    for i, l in enumerate(word):\n",
    "        score += chances[i].get(l, 0)\n",
    "    return score\n",
    "\n",
    "def yellow_score(word, chances, duplicates=False):\n",
    "    score = 0\n",
    "    if not duplicates and len(set(word)) <5:\n",
    "        return 0\n",
    "    for i, l in enumerate(word):\n",
    "        score += chances.get(l, 0)\n",
    "    \n",
    "    return score\n",
    "\n",
    "def legal_words(words, available_letters, green_letters, yellows):\n",
    "    for word in words:\n",
    "        legal_word = True\n",
    "        word = word.strip()\n",
    "        letters = set(word)\n",
    "        for letter in letters:\n",
    "            if letter not in available_letters:\n",
    "                legal_word = False\n",
    "        for w, g in zip(word, green_letters):\n",
    "            if not(g == \" \" or g == w):\n",
    "                legal_word = False\n",
    "        for yellow_letters in yellows:\n",
    "            for w, y in zip(word, yellow_letters):\n",
    "                if not \" \" == y:\n",
    "                    if w == y:\n",
    "                        legal_word = False\n",
    "                    if not y in letters:\n",
    "                        legal_word = False\n",
    "        if legal_word:\n",
    "            yield word\n",
    "\n",
    "def get_letter_frequencies(words):\n",
    "    letter_frequency = dict()\n",
    "    words_count = len(words)\n",
    "    for word in words:\n",
    "        word = word.strip()\n",
    "        letters = set(word)\n",
    "        for letter in letters:\n",
    "            if letter not in letter_frequency:\n",
    "                letter_frequency[letter] = 0\n",
    "            letter_frequency[letter] += 1\n",
    "    return letter_frequency, words_count\n",
    "\n",
    "def next_prediction(available_letters, green, yellow, verbose=False):\n",
    "    with open('hasła.txt', 'r', encoding='utf-8') as file:\n",
    "        words = file.readlines()\n",
    "        available_words = list(legal_words(words, available_letters, green, yellow))\n",
    "        # print(len(available_words))\n",
    "        letter_frequency, words_count = get_letter_frequencies(available_words)\n",
    "        sorted_letters = {k: round(letter_frequency[k]/words_count, 2) for k in sorted(letter_frequency, key=letter_frequency.get, reverse=True)}\n",
    "        sorted_unknown_letters = {k:sorted_letters[k] for k in sorted_letters if sorted_letters[k] < 1}\n",
    "        if verbose:\n",
    "            print(sorted_unknown_letters)\n",
    "\n",
    "    positions = [dict() for _ in range(5)]\n",
    "    letter_frequency = dict()\n",
    "    if verbose:\n",
    "        print(available_words)\n",
    "        print(sorted_unknown_letters)\n",
    "    for word in available_words:\n",
    "        word = word.strip()\n",
    "        for i, letter in enumerate(word):\n",
    "            if letter not in positions[i]:\n",
    "                positions[i][letter] = 0\n",
    "            positions[i][letter] += 1\n",
    "        for letter in set(word):\n",
    "            if letter not in letter_frequency:\n",
    "                letter_frequency[letter] = 0\n",
    "            letter_frequency[letter] += 1\n",
    "    \n",
    "    with open('5liter.txt', 'r', encoding='utf-8') as file:\n",
    "        words = file.readlines()\n",
    "        best_elimination_score = 0\n",
    "        best_elimination_word = \"\"\n",
    "        best_balanced_word = \"\"\n",
    "        best_balanced_score = 0\n",
    "        for word in words:\n",
    "            word = word.strip()\n",
    "            score = yellow_score(word, sorted_unknown_letters)\n",
    "            if score > best_elimination_score:\n",
    "                best_elimination_score = score\n",
    "                best_elimination_word = word\n",
    "            balanced_score = score/2 + green_score(word, positions)\n",
    "            if balanced_score > best_balanced_score:\n",
    "                best_balanced_score = balanced_score\n",
    "                best_balanced_word = word\n",
    "    best_score = 0\n",
    "    best_word = \"\"\n",
    "    for word in available_words:\n",
    "        word = word.strip()\n",
    "        score = yellow_score(word, sorted_letters, duplicates=True)\n",
    "        if score > best_score:\n",
    "            best_score = score\n",
    "            best_word = word\n",
    "    best_guess = best_word\n",
    "    return {\"best_elimination\":best_elimination_word, \"best_guess\":best_guess, \"best_balanced\":best_balanced_word, \"available_words_count\":len(available_words)}"
   ]
  },
  {
   "cell_type": "code",
   "execution_count": 41,
   "id": "05fdd121-f573-4122-a413-d9e139750b7f",
   "metadata": {},
   "outputs": [
    {
     "data": {
      "text/plain": [
       "{'best_elimination': 'okrai',\n",
       " 'best_guess': 'arara',\n",
       " 'best_balanced': 'soria',\n",
       " 'available_words_count': 4893}"
      ]
     },
     "execution_count": 41,
     "metadata": {},
     "output_type": "execute_result"
    }
   ],
   "source": [
    "letters = \"abcdefghijklmnoprstuvwxyzóąćęłńśźż\"\n",
    "green = \"     \"\n",
    "yellow = [\"     \"]\n",
    "available_letters = \"abcdefghijklmnoprstuvwxyzóąćęłńśźż\"\n",
    "haslo = \"KAJAK\"\n",
    "next_prediction(available_letters, green, yellow)"
   ]
  },
  {
   "cell_type": "code",
   "execution_count": 2,
   "id": "77d65422-7876-4860-920b-fa3cd238f959",
   "metadata": {},
   "outputs": [
    {
     "data": {
      "text/plain": [
       "{'best_elimination': 'kenty',\n",
       " 'best_guess': 'kanak',\n",
       " 'best_balanced': 'kapeć',\n",
       " 'available_words_count': 453}"
      ]
     },
     "execution_count": 2,
     "metadata": {},
     "output_type": "execute_result"
    }
   ],
   "source": [
    "available_letters = \"abcdefghjklmnptuvwxyzóąćęłńśźż\"\n",
    "green = \"     \"\n",
    "yellow = [\"    a\"]\n",
    "\n",
    "next_prediction(available_letters, green, yellow, verbose=False)"
   ]
  },
  {
   "cell_type": "code",
   "execution_count": 6,
   "id": "5e2ae54d-d26c-4654-931c-84b83fa2e4a7",
   "metadata": {},
   "outputs": [
    {
     "name": "stdout",
     "output_type": "stream",
     "text": [
      "{'u': 0.43, 'p': 0.31, 'ć': 0.29, 'z': 0.26, 'j': 0.17, 'ł': 0.17, 'm': 0.14, 'd': 0.14, 'b': 0.14, 'l': 0.11, 'c': 0.11, 'ą': 0.11, 'ę': 0.11, 'h': 0.09, 'w': 0.06, 'f': 0.03}\n",
      "['ajmak', 'alkad', 'bakch', 'bąkać', 'bujak', 'bukal', 'cudak', 'czkać', 'dukać', 'fukać', 'hamak', 'hukać', 'jąkać', 'lękać', 'luzak', 'łapak', 'majak', 'makak', 'mazak', 'pająk', 'pajuk', 'pakuł', 'pałąk', 'pęcak', 'pękać', 'pukać', 'układ', 'ukwap', 'wkład', 'zakał', 'zakaz', 'zakuć', 'zakup', 'zębak', 'zupak']\n",
      "{'u': 0.43, 'p': 0.31, 'ć': 0.29, 'z': 0.26, 'j': 0.17, 'ł': 0.17, 'm': 0.14, 'd': 0.14, 'b': 0.14, 'l': 0.11, 'c': 0.11, 'ą': 0.11, 'ę': 0.11, 'h': 0.09, 'w': 0.06, 'f': 0.03}\n"
     ]
    },
    {
     "data": {
      "text/plain": [
       "{'best_elimination': 'płucz',\n",
       " 'best_guess': 'makak',\n",
       " 'best_balanced': 'pukać',\n",
       " 'available_words_count': 35}"
      ]
     },
     "execution_count": 6,
     "metadata": {},
     "output_type": "execute_result"
    }
   ],
   "source": [
    "available_letters = \"abcdfghjklmpuvwxzóąćęłńśźż\"\n",
    "green = \"     \"\n",
    "yellow = [\"k   a\"]\n",
    "\n",
    "next_prediction(available_letters, green, yellow, verbose=True)"
   ]
  },
  {
   "cell_type": "code",
   "execution_count": 7,
   "id": "feac401a-0777-4a03-b3f8-4cd375317462",
   "metadata": {},
   "outputs": [
    {
     "name": "stdout",
     "output_type": "stream",
     "text": [
      "{'m': 0.5, 'j': 0.38, 'ć': 0.38, 'l': 0.25, 'ą': 0.25, 'd': 0.12, 'b': 0.12, 'h': 0.12, 'ę': 0.12}\n",
      "['ajmak', 'alkad', 'bąkać', 'hamak', 'jąkać', 'lękać', 'majak', 'makak']\n",
      "{'m': 0.5, 'j': 0.38, 'ć': 0.38, 'l': 0.25, 'ą': 0.25, 'd': 0.12, 'b': 0.12, 'h': 0.12, 'ę': 0.12}\n"
     ]
    },
    {
     "data": {
      "text/plain": [
       "{'best_elimination': 'ćmiej',\n",
       " 'best_guess': 'makak',\n",
       " 'best_balanced': 'jąkać',\n",
       " 'available_words_count': 8}"
      ]
     },
     "execution_count": 7,
     "metadata": {},
     "output_type": "execute_result"
    }
   ],
   "source": [
    "available_letters = \"abdfghjklmvwxóąćęńśźż\"\n",
    "green = \"     \"\n",
    "yellow = [\"k   a\"]\n",
    "\n",
    "next_prediction(available_letters, green, yellow, verbose=True)"
   ]
  },
  {
   "cell_type": "code",
   "execution_count": 69,
   "id": "8fc03f16-cd7f-40a8-bef2-b03525dc26b4",
   "metadata": {},
   "outputs": [],
   "source": [
    "def game(solution):\n",
    "    letters = set(\"abcdefghijklmnoprstuvwxyzóąćęłńśźż\")\n",
    "    green = list(\"     \")\n",
    "    yellows = [\"     \"]\n",
    "    prediction = next_prediction(\"\".join(letters), \"\".join(green), yellows)[\"best_balanced\"]\n",
    "    # print(prediction)\n",
    "    guesses = 1\n",
    "    while not prediction == solution:\n",
    "        new_yellow = list(\"     \")\n",
    "        for i in range(5):\n",
    "            if prediction[i] == solution[i]:\n",
    "                green[i] = prediction[i]\n",
    "            elif prediction[i] in solution:\n",
    "                new_yellow[i] = prediction[i]\n",
    "            else:\n",
    "                letters.discard(prediction[i])\n",
    "        if not \"\".join(new_yellow) == \"     \":\n",
    "            yellows.append(new_yellow)\n",
    "        predictions = next_prediction(\"\".join(letters), \"\".join(green), yellows)\n",
    "        if predictions[\"available_words_count\"] > 8:\n",
    "            prediction = predictions[\"best_elimination\"]\n",
    "        else:\n",
    "            prediction = predictions[\"best_guess\"]\n",
    "        guesses += 1\n",
    "        if guesses == 7:\n",
    "            return 7\n",
    "    return guesses"
   ]
  },
  {
   "cell_type": "code",
   "execution_count": 62,
   "id": "b7617bfb-01a1-4da6-b308-4768b7b9d9ef",
   "metadata": {},
   "outputs": [
    {
     "data": {
      "text/plain": [
       "5"
      ]
     },
     "execution_count": 62,
     "metadata": {},
     "output_type": "execute_result"
    }
   ],
   "source": [
    "game(\"flora\")"
   ]
  },
  {
   "cell_type": "code",
   "execution_count": 84,
   "id": "4db6c395-4f4c-4d52-ad0a-1c31f6748923",
   "metadata": {},
   "outputs": [
    {
     "name": "stdout",
     "output_type": "stream",
     "text": [
      "10\n",
      "20\n",
      "30\n",
      "40\n",
      "50\n",
      "60\n",
      "70\n",
      "80\n",
      "90\n",
      "100\n",
      "110\n",
      "120\n",
      "130\n",
      "140\n",
      "150\n",
      "160\n",
      "170\n",
      "180\n",
      "190\n",
      "200\n",
      "{3: 61, 4: 96, 6: 11, 5: 30, 2: 2}\n"
     ]
    }
   ],
   "source": [
    "import random\n",
    "\n",
    "with open('hasła.txt', 'r', encoding='utf-8') as file:\n",
    "    results = dict()    \n",
    "    words = file.readlines()\n",
    "    for i, word in enumerate(random.sample(words, 200)):\n",
    "        if (i+1)%10 == 0:\n",
    "            print(i+1)\n",
    "        word = word.strip()\n",
    "        guesses = game(word)\n",
    "        if not guesses in results:\n",
    "            results[guesses] = 0\n",
    "        results[guesses] += 1\n",
    "print(results)"
   ]
  },
  {
   "cell_type": "code",
   "execution_count": 85,
   "id": "fc23bb9d-4533-487c-9a4f-678ecdc565d6",
   "metadata": {},
   "outputs": [
    {
     "name": "stdout",
     "output_type": "stream",
     "text": [
      "{2: 2, 3: 61, 4: 96, 5: 30, 6: 11}\n"
     ]
    }
   ],
   "source": [
    "results = {k: results[k] for k in sorted(results)}\n",
    "print(results)"
   ]
  }
 ],
 "metadata": {
  "kernelspec": {
   "display_name": "Python 3 (ipykernel)",
   "language": "python",
   "name": "python3"
  },
  "language_info": {
   "codemirror_mode": {
    "name": "ipython",
    "version": 3
   },
   "file_extension": ".py",
   "mimetype": "text/x-python",
   "name": "python",
   "nbconvert_exporter": "python",
   "pygments_lexer": "ipython3",
   "version": "3.10.12"
  }
 },
 "nbformat": 4,
 "nbformat_minor": 5
}
